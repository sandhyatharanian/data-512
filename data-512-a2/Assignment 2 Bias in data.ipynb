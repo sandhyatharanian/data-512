{
 "cells": [
  {
   "cell_type": "markdown",
   "metadata": {},
   "source": [
    "Let’s begin by installing and importing the necessary packages\\libraries. This is a fundamental step required in every exploratory data analysis process."
   ]
  },
  {
   "cell_type": "code",
   "execution_count": 1,
   "metadata": {},
   "outputs": [
    {
     "name": "stdout",
     "output_type": "stream",
     "text": [
      "Requirement already satisfied: tabulate in c:\\users\\tharasan\\anaconda3\\lib\\site-packages (0.8.7)\n"
     ]
    }
   ],
   "source": [
    "# Install tabulate \n",
    "# Tabulate is a python package which helps in organizing your output in a clean tabular format\n",
    "!pip install tabulate"
   ]
  },
  {
   "cell_type": "code",
   "execution_count": 2,
   "metadata": {},
   "outputs": [],
   "source": [
    "import pandas as pd\n",
    "import numpy as np\n",
    "import seaborn as sns\n",
    "from matplotlib import pyplot as plt\n",
    "from tabulate import tabulate"
   ]
  },
  {
   "cell_type": "markdown",
   "metadata": {},
   "source": [
    "# Step 1: Select and perform analysis"
   ]
  },
  {
   "cell_type": "markdown",
   "metadata": {},
   "source": [
    "###### Loading each of the 3 dataset"
   ]
  },
  {
   "cell_type": "markdown",
   "metadata": {},
   "source": [
    "The datasets are available for download from [https://figshare.com/projects/Wikipedia_Talk/16731](https://figshare.com/projects/Wikipedia_Talk/16731) and should be uploaded to the Jupyter environment before proceeding to the below steps."
   ]
  },
  {
   "cell_type": "code",
   "execution_count": 3,
   "metadata": {},
   "outputs": [],
   "source": [
    "# Reading each of the 3 .tsv files from the toxicity dataset\n",
    "toxicity_annotations = pd.read_csv(\"toxicity_annotations.tsv\", delimiter=\"\\t\")\n",
    "toxicity_annotated_comments = pd.read_csv(\"toxicity_annotated_comments.tsv\", delimiter=\"\\t\")\n",
    "toxicity_worker_demographics = pd.read_csv(\"toxicity_worker_demographics.tsv\", delimiter=\"\\t\")"
   ]
  },
  {
   "cell_type": "code",
   "execution_count": 4,
   "metadata": {},
   "outputs": [],
   "source": [
    "# Reading each of the 3 .tsv files from the attack dataset\n",
    "personal_annotations = pd.read_csv(\"attack_annotations.tsv\", delimiter=\"\\t\")\n",
    "personal_annotated_comments = pd.read_csv(\"attack_annotated_comments.tsv\", delimiter=\"\\t\")\n",
    "personal_worker_demographics = pd.read_csv(\"attack_worker_demographics.tsv\", delimiter=\"\\t\")"
   ]
  },
  {
   "cell_type": "code",
   "execution_count": 5,
   "metadata": {},
   "outputs": [],
   "source": [
    "# Reading each of the 3 .tsv files from the aggression dataset\n",
    "aggression_annotations = pd.read_csv(\"aggression_annotations.tsv\", delimiter=\"\\t\")\n",
    "aggression_annotated_comments = pd.read_csv(\"aggression_annotated_comments.tsv\", delimiter=\"\\t\")\n",
    "aggression_worker_demographics = pd.read_csv(\"aggression_worker_demographics.tsv\", delimiter=\"\\t\")"
   ]
  },
  {
   "cell_type": "markdown",
   "metadata": {},
   "source": [
    "## Exploratory data analysis on Wikipedia Talk corpus dataset"
   ]
  },
  {
   "cell_type": "markdown",
   "metadata": {},
   "source": [
    "## Analysis 1 - Using toxicity dataset"
   ]
  },
  {
   "cell_type": "markdown",
   "metadata": {},
   "source": [
    "###### Initial exploration to understand and summarize the toxicity dataset"
   ]
  },
  {
   "cell_type": "code",
   "execution_count": 6,
   "metadata": {},
   "outputs": [
    {
     "name": "stdout",
     "output_type": "stream",
     "text": [
      "toxicity_annotations  (1598289, 4)\n",
      "toxicity_annotated_comments (159686, 7)\n",
      "toxicity_worker_demographics (3591, 5)\n"
     ]
    }
   ],
   "source": [
    "# To understand the shape of each of the 3 .tsv files in the toxicity dataset\n",
    "print('toxicity_annotations ', toxicity_annotations.shape)\n",
    "print('toxicity_annotated_comments', toxicity_annotated_comments.shape)\n",
    "print('toxicity_worker_demographics', toxicity_worker_demographics.shape)"
   ]
  },
  {
   "cell_type": "markdown",
   "metadata": {},
   "source": [
    "###### Explore the first few rows of each table within the toxicity dataset"
   ]
  },
  {
   "cell_type": "code",
   "execution_count": 7,
   "metadata": {},
   "outputs": [
    {
     "data": {
      "text/html": [
       "<div>\n",
       "<style scoped>\n",
       "    .dataframe tbody tr th:only-of-type {\n",
       "        vertical-align: middle;\n",
       "    }\n",
       "\n",
       "    .dataframe tbody tr th {\n",
       "        vertical-align: top;\n",
       "    }\n",
       "\n",
       "    .dataframe thead th {\n",
       "        text-align: right;\n",
       "    }\n",
       "</style>\n",
       "<table border=\"1\" class=\"dataframe\">\n",
       "  <thead>\n",
       "    <tr style=\"text-align: right;\">\n",
       "      <th></th>\n",
       "      <th>rev_id</th>\n",
       "      <th>worker_id</th>\n",
       "      <th>toxicity</th>\n",
       "      <th>toxicity_score</th>\n",
       "    </tr>\n",
       "  </thead>\n",
       "  <tbody>\n",
       "    <tr>\n",
       "      <th>0</th>\n",
       "      <td>2232.0</td>\n",
       "      <td>723</td>\n",
       "      <td>0</td>\n",
       "      <td>0.0</td>\n",
       "    </tr>\n",
       "    <tr>\n",
       "      <th>1</th>\n",
       "      <td>2232.0</td>\n",
       "      <td>4000</td>\n",
       "      <td>0</td>\n",
       "      <td>0.0</td>\n",
       "    </tr>\n",
       "    <tr>\n",
       "      <th>2</th>\n",
       "      <td>2232.0</td>\n",
       "      <td>3989</td>\n",
       "      <td>0</td>\n",
       "      <td>1.0</td>\n",
       "    </tr>\n",
       "    <tr>\n",
       "      <th>3</th>\n",
       "      <td>2232.0</td>\n",
       "      <td>3341</td>\n",
       "      <td>0</td>\n",
       "      <td>0.0</td>\n",
       "    </tr>\n",
       "    <tr>\n",
       "      <th>4</th>\n",
       "      <td>2232.0</td>\n",
       "      <td>1574</td>\n",
       "      <td>0</td>\n",
       "      <td>1.0</td>\n",
       "    </tr>\n",
       "  </tbody>\n",
       "</table>\n",
       "</div>"
      ],
      "text/plain": [
       "   rev_id  worker_id  toxicity  toxicity_score\n",
       "0  2232.0        723         0             0.0\n",
       "1  2232.0       4000         0             0.0\n",
       "2  2232.0       3989         0             1.0\n",
       "3  2232.0       3341         0             0.0\n",
       "4  2232.0       1574         0             1.0"
      ]
     },
     "execution_count": 7,
     "metadata": {},
     "output_type": "execute_result"
    }
   ],
   "source": [
    "toxicity_annotations.head()"
   ]
  },
  {
   "cell_type": "code",
   "execution_count": 8,
   "metadata": {},
   "outputs": [
    {
     "data": {
      "text/html": [
       "<div>\n",
       "<style scoped>\n",
       "    .dataframe tbody tr th:only-of-type {\n",
       "        vertical-align: middle;\n",
       "    }\n",
       "\n",
       "    .dataframe tbody tr th {\n",
       "        vertical-align: top;\n",
       "    }\n",
       "\n",
       "    .dataframe thead th {\n",
       "        text-align: right;\n",
       "    }\n",
       "</style>\n",
       "<table border=\"1\" class=\"dataframe\">\n",
       "  <thead>\n",
       "    <tr style=\"text-align: right;\">\n",
       "      <th></th>\n",
       "      <th>rev_id</th>\n",
       "      <th>comment</th>\n",
       "      <th>year</th>\n",
       "      <th>logged_in</th>\n",
       "      <th>ns</th>\n",
       "      <th>sample</th>\n",
       "      <th>split</th>\n",
       "    </tr>\n",
       "  </thead>\n",
       "  <tbody>\n",
       "    <tr>\n",
       "      <th>0</th>\n",
       "      <td>2232.0</td>\n",
       "      <td>This:NEWLINE_TOKEN:One can make an analogy in ...</td>\n",
       "      <td>2002</td>\n",
       "      <td>True</td>\n",
       "      <td>article</td>\n",
       "      <td>random</td>\n",
       "      <td>train</td>\n",
       "    </tr>\n",
       "    <tr>\n",
       "      <th>1</th>\n",
       "      <td>4216.0</td>\n",
       "      <td>`NEWLINE_TOKENNEWLINE_TOKEN:Clarification for ...</td>\n",
       "      <td>2002</td>\n",
       "      <td>True</td>\n",
       "      <td>user</td>\n",
       "      <td>random</td>\n",
       "      <td>train</td>\n",
       "    </tr>\n",
       "    <tr>\n",
       "      <th>2</th>\n",
       "      <td>8953.0</td>\n",
       "      <td>Elected or Electoral? JHK</td>\n",
       "      <td>2002</td>\n",
       "      <td>False</td>\n",
       "      <td>article</td>\n",
       "      <td>random</td>\n",
       "      <td>test</td>\n",
       "    </tr>\n",
       "    <tr>\n",
       "      <th>3</th>\n",
       "      <td>26547.0</td>\n",
       "      <td>`This is such a fun entry.   DevotchkaNEWLINE_...</td>\n",
       "      <td>2002</td>\n",
       "      <td>True</td>\n",
       "      <td>article</td>\n",
       "      <td>random</td>\n",
       "      <td>train</td>\n",
       "    </tr>\n",
       "    <tr>\n",
       "      <th>4</th>\n",
       "      <td>28959.0</td>\n",
       "      <td>Please relate the ozone hole to increases in c...</td>\n",
       "      <td>2002</td>\n",
       "      <td>True</td>\n",
       "      <td>article</td>\n",
       "      <td>random</td>\n",
       "      <td>test</td>\n",
       "    </tr>\n",
       "  </tbody>\n",
       "</table>\n",
       "</div>"
      ],
      "text/plain": [
       "    rev_id                                            comment  year  \\\n",
       "0   2232.0  This:NEWLINE_TOKEN:One can make an analogy in ...  2002   \n",
       "1   4216.0  `NEWLINE_TOKENNEWLINE_TOKEN:Clarification for ...  2002   \n",
       "2   8953.0                          Elected or Electoral? JHK  2002   \n",
       "3  26547.0  `This is such a fun entry.   DevotchkaNEWLINE_...  2002   \n",
       "4  28959.0  Please relate the ozone hole to increases in c...  2002   \n",
       "\n",
       "   logged_in       ns  sample  split  \n",
       "0       True  article  random  train  \n",
       "1       True     user  random  train  \n",
       "2      False  article  random   test  \n",
       "3       True  article  random  train  \n",
       "4       True  article  random   test  "
      ]
     },
     "execution_count": 8,
     "metadata": {},
     "output_type": "execute_result"
    }
   ],
   "source": [
    "toxicity_annotated_comments.head()"
   ]
  },
  {
   "cell_type": "code",
   "execution_count": 9,
   "metadata": {},
   "outputs": [
    {
     "data": {
      "text/html": [
       "<div>\n",
       "<style scoped>\n",
       "    .dataframe tbody tr th:only-of-type {\n",
       "        vertical-align: middle;\n",
       "    }\n",
       "\n",
       "    .dataframe tbody tr th {\n",
       "        vertical-align: top;\n",
       "    }\n",
       "\n",
       "    .dataframe thead th {\n",
       "        text-align: right;\n",
       "    }\n",
       "</style>\n",
       "<table border=\"1\" class=\"dataframe\">\n",
       "  <thead>\n",
       "    <tr style=\"text-align: right;\">\n",
       "      <th></th>\n",
       "      <th>worker_id</th>\n",
       "      <th>gender</th>\n",
       "      <th>english_first_language</th>\n",
       "      <th>age_group</th>\n",
       "      <th>education</th>\n",
       "    </tr>\n",
       "  </thead>\n",
       "  <tbody>\n",
       "    <tr>\n",
       "      <th>0</th>\n",
       "      <td>85</td>\n",
       "      <td>female</td>\n",
       "      <td>0</td>\n",
       "      <td>18-30</td>\n",
       "      <td>bachelors</td>\n",
       "    </tr>\n",
       "    <tr>\n",
       "      <th>1</th>\n",
       "      <td>1617</td>\n",
       "      <td>female</td>\n",
       "      <td>0</td>\n",
       "      <td>45-60</td>\n",
       "      <td>bachelors</td>\n",
       "    </tr>\n",
       "    <tr>\n",
       "      <th>2</th>\n",
       "      <td>1394</td>\n",
       "      <td>female</td>\n",
       "      <td>0</td>\n",
       "      <td>NaN</td>\n",
       "      <td>bachelors</td>\n",
       "    </tr>\n",
       "    <tr>\n",
       "      <th>3</th>\n",
       "      <td>311</td>\n",
       "      <td>male</td>\n",
       "      <td>0</td>\n",
       "      <td>30-45</td>\n",
       "      <td>bachelors</td>\n",
       "    </tr>\n",
       "    <tr>\n",
       "      <th>4</th>\n",
       "      <td>1980</td>\n",
       "      <td>male</td>\n",
       "      <td>0</td>\n",
       "      <td>45-60</td>\n",
       "      <td>masters</td>\n",
       "    </tr>\n",
       "  </tbody>\n",
       "</table>\n",
       "</div>"
      ],
      "text/plain": [
       "   worker_id  gender  english_first_language age_group  education\n",
       "0         85  female                       0     18-30  bachelors\n",
       "1       1617  female                       0     45-60  bachelors\n",
       "2       1394  female                       0       NaN  bachelors\n",
       "3        311    male                       0     30-45  bachelors\n",
       "4       1980    male                       0     45-60    masters"
      ]
     },
     "execution_count": 9,
     "metadata": {},
     "output_type": "execute_result"
    }
   ],
   "source": [
    "toxicity_worker_demographics.head()"
   ]
  },
  {
   "cell_type": "markdown",
   "metadata": {},
   "source": [
    "###### Join the annotation table with the annotate comment table"
   ]
  },
  {
   "cell_type": "code",
   "execution_count": 10,
   "metadata": {},
   "outputs": [
    {
     "name": "stdout",
     "output_type": "stream",
     "text": [
      "Shape of toxicity_annotate_comment : (1598289, 10)\n"
     ]
    }
   ],
   "source": [
    "# Combine the toxicity_annotations.tsv & toxicity_annotated_comments.tsv on rev_id column and save it as toxicity_annotate_comment\n",
    "toxicity_annotate_comment = pd.merge(toxicity_annotations, toxicity_annotated_comments, on='rev_id')\n",
    "print('Shape of toxicity_annotate_comment :', toxicity_annotate_comment.shape)"
   ]
  },
  {
   "cell_type": "markdown",
   "metadata": {},
   "source": [
    "###### Join the toxicity_annotate_comment  with worker demographic table"
   ]
  },
  {
   "cell_type": "code",
   "execution_count": 11,
   "metadata": {},
   "outputs": [
    {
     "name": "stdout",
     "output_type": "stream",
     "text": [
      "Final dataset used for Analysis 1 is toxicity_final!\n"
     ]
    }
   ],
   "source": [
    "# Combine the toxicity_annotate_comment and toxicity_worker_demographics.tsv on the worker_id column and save it as toxicity_final\n",
    "toxicity_final = pd.merge(toxicity_annotate_comment, toxicity_worker_demographics, on='worker_id')\n",
    "print('Final dataset used for Analysis 1 is toxicity_final!')"
   ]
  },
  {
   "cell_type": "code",
   "execution_count": 12,
   "metadata": {},
   "outputs": [
    {
     "data": {
      "text/plain": [
       "rev_id                        0\n",
       "worker_id                     0\n",
       "toxicity                      0\n",
       "toxicity_score                0\n",
       "comment                       0\n",
       "year                          0\n",
       "logged_in                     0\n",
       "ns                            0\n",
       "sample                        0\n",
       "split                         0\n",
       "gender                        0\n",
       "english_first_language        0\n",
       "age_group                 29314\n",
       "education                     0\n",
       "dtype: int64"
      ]
     },
     "execution_count": 12,
     "metadata": {},
     "output_type": "execute_result"
    }
   ],
   "source": [
    "# Check for null values in the final dataset\n",
    "toxicity_final.isnull().sum()"
   ]
  },
  {
   "cell_type": "markdown",
   "metadata": {},
   "source": [
    "**Observations-** The age_group column is the only column with null values. With this, we have an idea of what our dataset looks like. Let’s now see how we can use a few functions to explore this dataset further."
   ]
  },
  {
   "cell_type": "markdown",
   "metadata": {},
   "source": [
    "## Q1 -  Looking at the distribution of toxic vs non toxic comments across namespace"
   ]
  },
  {
   "cell_type": "markdown",
   "metadata": {},
   "source": [
    "Let's start by looking at the toxicity distribution by namespace. I am hoping to find if we have more toxic comments in the user namespace."
   ]
  },
  {
   "cell_type": "code",
   "execution_count": 13,
   "metadata": {},
   "outputs": [
    {
     "data": {
      "text/plain": [
       "ns       toxicity\n",
       "article  0           492581\n",
       "         1            52728\n",
       "user     0           658075\n",
       "         1           143571\n",
       "Name: toxicity, dtype: int64"
      ]
     },
     "execution_count": 13,
     "metadata": {},
     "output_type": "execute_result"
    }
   ],
   "source": [
    "# Calculating the counts of comments based on namespace and toxicity\n",
    "toxicity_final.groupby('ns')['toxicity'].value_counts()"
   ]
  },
  {
   "cell_type": "markdown",
   "metadata": {},
   "source": [
    "Now that I have confirmed more toxic contents are in the user namespace indeed, let's add some visuals."
   ]
  },
  {
   "cell_type": "code",
   "execution_count": 14,
   "metadata": {},
   "outputs": [
    {
     "data": {
      "image/png": "[encoded data removed]",
      "text/plain": [
       "<Figure size 1080x576 with 1 Axes>"
      ]
     },
     "metadata": {
      "needs_background": "light"
     },
     "output_type": "display_data"
    }
   ],
   "source": [
    "# Using a countplot to show the toxicity distribution across different namespace\n",
    "fig, ax = plt.subplots(figsize=(15,8))\n",
    "ax.set_title(\"Distribution of Toxicity across different namespace\")\n",
    "ax.set(xlabel ='Toxicity')\n",
    "ax.set(ylabel='Comment count')\n",
    "\n",
    "plot = sns.countplot( x=\"toxicity\", data=toxicity_final, hue = 'ns' ,ax=ax )\n",
    "\n",
    "# Function to print the %'s for each of the bar\n",
    "ax = plot.axes\n",
    "for p in ax.patches:\n",
    "    ax.annotate(f'{p.get_height() * 100 / toxicity_final.shape[0]:.2f}%',\n",
    "                (p.get_x() + p.get_width() / 2., p.get_height()), \n",
    "                ha='center', \n",
    "                va='center', \n",
    "                fontsize=13, \n",
    "                color='black',\n",
    "                xytext=(0,7), \n",
    "                textcoords='offset points')\n",
    "plt.show()   "
   ]
  },
  {
   "cell_type": "markdown",
   "metadata": {},
   "source": [
    "We now know the toxicity of the comments in our dataset, but what about the distribution of toxicity score?"
   ]
  },
  {
   "cell_type": "code",
   "execution_count": 15,
   "metadata": {},
   "outputs": [
    {
     "data": {
      "image/png": "[encoded data removed]",
      "text/plain": [
       "<Figure size 864x432 with 1 Axes>"
      ]
     },
     "metadata": {
      "needs_background": "light"
     },
     "output_type": "display_data"
    }
   ],
   "source": [
    "# Using a dist plot to show the histogram of the toxicity score\n",
    "plt.figure(figsize=(12,6))\n",
    "plt.title(\"Distribution of toxicity score across comments\")\n",
    "ax = sns.distplot(toxicity_final['toxicity_score'],hist=True, label='toxicity_score')\n",
    "# Set the x and y axis labels\n",
    "ax.set(xlabel='Toxicity Score', ylabel='Density')\n",
    "plt.legend()\n",
    "plt.show()"
   ]
  },
  {
   "cell_type": "markdown",
   "metadata": {},
   "source": [
    "**Key Findings for Q1-** Looking at the toxicity and the toxicity score distribution, a few things can be observed:\n",
    "\n",
    "- 85% of the comments are non-toxic with only 15% of toxic comments.\n",
    "- Of the toxic comments about 11% are in the user namespace.\n",
    "- Interesting to see most of the comments are marked as neutral to healthy (0 to 2) with fewer toxic and very toxic comments (0 to -2).\n",
    "\n",
    "**Did you find bias-** Yes, the dataset does have response bias as it represents only few demographic groups or users and hence cannot be used for making inferences about all users. "
   ]
  },
  {
   "cell_type": "markdown",
   "metadata": {},
   "source": [
    "## Q2 -  Does toxicity increases with increase in comment length."
   ]
  },
  {
   "cell_type": "markdown",
   "metadata": {},
   "source": [
    "Lets start by looking at some of the basic comment statistics and then calculate the comment's character length and word count.I would like to test my hypothesis that smaller comments are more toxic as they are simple and fast to label."
   ]
  },
  {
   "cell_type": "code",
   "execution_count": 16,
   "metadata": {},
   "outputs": [
    {
     "name": "stdout",
     "output_type": "stream",
     "text": [
      "Total comment count     : 1346955\n",
      "No. of unique comments  : 159463\n",
      "Rate of unique comments : 12.0 %\n"
     ]
    }
   ],
   "source": [
    "# Looking at the comment statistics\n",
    "print('Total comment count     :' ,toxicity_final['comment'].count())\n",
    "print('No. of unique comments  :' , toxicity_final['comment'].nunique())\n",
    "print('Rate of unique comments :' , round(toxicity_final['comment'].nunique()/toxicity_final['comment'].count() * 100), '%')"
   ]
  },
  {
   "cell_type": "markdown",
   "metadata": {},
   "source": [
    "**Observation-** Only 12% of all comments are unique!"
   ]
  },
  {
   "cell_type": "code",
   "execution_count": 17,
   "metadata": {},
   "outputs": [],
   "source": [
    "# Adding a column to calculate the comment length\n",
    "toxicity_final['comment_length']= toxicity_final['comment'].str.len()"
   ]
  },
  {
   "cell_type": "code",
   "execution_count": 18,
   "metadata": {},
   "outputs": [
    {
     "name": "stdout",
     "output_type": "stream",
     "text": [
      "Mean       446.5126295978707\n",
      "Median     245.0\n",
      "Minimum    21\n",
      "25%        127.0\n",
      "50%        245.0\n",
      "75%        488.0\n",
      "Max        9242\n"
     ]
    }
   ],
   "source": [
    "# Print the basic comment length statistics\n",
    "print('Mean      ',toxicity_final['comment_length'].mean())\n",
    "print('Median    ',toxicity_final['comment_length'].median())\n",
    "print('Minimum   ',toxicity_final['comment_length'].min())\n",
    "# First quartile (Q1) \n",
    "Q1 = np.percentile(toxicity_final['comment_length'], 25, interpolation = 'midpoint') \n",
    "print('25%       ', Q1)\n",
    "# Second quartile (Q2) \n",
    "Q2 = np.percentile(toxicity_final['comment_length'], 50, interpolation = 'midpoint') \n",
    "print('50%       ', Q2)\n",
    "# Third quartile (Q3) \n",
    "Q3 = np.percentile(toxicity_final['comment_length'], 75, interpolation = 'midpoint') \n",
    "print('75%       ', Q3)\n",
    "print('Max       ',toxicity_final['comment_length'].max())"
   ]
  },
  {
   "cell_type": "markdown",
   "metadata": {},
   "source": [
    "**Observation-** Mean of the comment character length is about double the median which means the dataset could be skewed by outliers. The largest comment is 9242 characters, while the inter-quartile range is only 21 to 488 characters which does confirm our intincts that the dataset has large comments resulting in outliers."
   ]
  },
  {
   "cell_type": "code",
   "execution_count": 19,
   "metadata": {},
   "outputs": [],
   "source": [
    "# Adding a column to calculate the word length for further analysis\n",
    "toxicity_final['total_words'] = toxicity_final.comment.apply(lambda x: len(x.split()))"
   ]
  },
  {
   "cell_type": "code",
   "execution_count": 20,
   "metadata": {},
   "outputs": [
    {
     "name": "stdout",
     "output_type": "stream",
     "text": [
      "Mean       66.90370576596843\n",
      "Median     36.0\n",
      "Minimum    0\n",
      "25%        17.0\n",
      "50%        36.0\n",
      "75%        75.0\n",
      "Max        1411\n"
     ]
    }
   ],
   "source": [
    "# Print the basic word count statistics\n",
    "print('Mean      ',toxicity_final['total_words'].mean())\n",
    "print('Median    ',toxicity_final['total_words'].median())\n",
    "print('Minimum   ',toxicity_final['total_words'].min())\n",
    "# First quartile (Q1) \n",
    "Q1 = np.percentile(toxicity_final['total_words'], 25, interpolation = 'midpoint') \n",
    "print('25%       ', Q1)\n",
    "# Second quartile (Q2) \n",
    "Q2 = np.percentile(toxicity_final['total_words'], 50, interpolation = 'midpoint') \n",
    "print('50%       ', Q2)\n",
    "# Third quartile (Q3) \n",
    "Q3 = np.percentile(toxicity_final['total_words'], 75, interpolation = 'midpoint') \n",
    "print('75%       ', Q3)\n",
    "print('Max       ',toxicity_final['total_words'].max())"
   ]
  },
  {
   "cell_type": "markdown",
   "metadata": {},
   "source": [
    "**Observation-**  Word count stats are similar to that of the character lengths which is the way the English language is!!"
   ]
  },
  {
   "cell_type": "markdown",
   "metadata": {},
   "source": [
    "###### Analyzing the comments at character and word count level through visualization"
   ]
  },
  {
   "cell_type": "code",
   "execution_count": 21,
   "metadata": {},
   "outputs": [
    {
     "data": {
      "image/png": "[encoded data removed]",
      "text/plain": [
       "<Figure size 720x360 with 1 Axes>"
      ]
     },
     "metadata": {
      "needs_background": "light"
     },
     "output_type": "display_data"
    }
   ],
   "source": [
    "# Using a dist plot to show the histogram of the comment length at character level for both train and test split\n",
    "fig = plt.figure(figsize=(10, 5))\n",
    "\n",
    "# Splitting the dataset into train and test based on the split column value\n",
    "data_train = toxicity_final.loc[toxicity_final['split'] == 'train']\n",
    "data_test = toxicity_final.loc[toxicity_final['split'] == 'test']\n",
    "\n",
    "# Calculate the bin size using the max comment length from train and test dataset\n",
    "bin_size = max(data_train['comment_length'].max(), data_test['comment_length'].max())//10\n",
    "\n",
    "ax = sns.distplot(data_train['comment_length'] ,bins = bin_size)\n",
    "ax = sns.distplot(data_test['comment_length'],bins = bin_size)\n",
    "\n",
    "# Set the title,labels and lengends\n",
    "ax.set_title(\"Distribution of mean toxicity score by comment length\")\n",
    "ax.set(xlabel='Comment Length', ylabel='Density')\n",
    "fig.legend(labels=['Train dataset','Test dataset'], loc='upper right', frameon=True)\n",
    "plt.show()"
   ]
  },
  {
   "cell_type": "code",
   "execution_count": 22,
   "metadata": {},
   "outputs": [
    {
     "data": {
      "image/png": "[encoded data removed]",
      "text/plain": [
       "<Figure size 720x360 with 1 Axes>"
      ]
     },
     "metadata": {
      "needs_background": "light"
     },
     "output_type": "display_data"
    }
   ],
   "source": [
    "# Using a dist plot to show the histogram of the word count of comment for both train and test split\n",
    "fig= plt.figure(figsize=(10, 5))\n",
    "\n",
    "# Splitting the dataset into train and test based on the split column value\n",
    "data_train = toxicity_final.loc[toxicity_final['split'] == 'train']\n",
    "data_test = toxicity_final.loc[toxicity_final['split'] == 'test']\n",
    "\n",
    "# Calculate the bin size using the max comment length from train and test dataset\n",
    "bin_size = max(data_train['total_words'].max(), data_test['total_words'].max())//10\n",
    "\n",
    "ax=sns.distplot(data_train['total_words'] ,bins = bin_size)\n",
    "ax=sns.distplot(data_test['total_words'],bins = bin_size )\n",
    "\n",
    "# Set the title,labels and lengends\n",
    "ax.set_title(\"Distribution of mean toxicity score by word count\")\n",
    "ax.set(xlabel='Word Count', ylabel='Density')\n",
    "fig.legend(labels=['Train dataset','Test dataset'], loc='upper right', frameon=True)\n",
    "plt.show()"
   ]
  },
  {
   "cell_type": "markdown",
   "metadata": {},
   "source": [
    "**Observation-** Analyzing the comment length at word and character count we find the below observations -\n",
    "\n",
    " - Similar distribution for both word and character count\n",
    " - Most of the comments are 2000 characters long with the word count under the range of 200\n",
    " - Additionally, the test and train data have similar distributions for word count where as it is different for comment length. The train dataset has longer comments compared to the test dataset.\n",
    " \n",
    "Looking at most of the comments 2000 character long makes me wonder if there was some text truncation process during the data collection phase. What if the toxicity occurs after the truncation which could impacts the models trained on this dataset. However, I still do observe a very small portion of the comments with character length > 2000 and hence makes if difficult to confirm if there was any truction process involved."
   ]
  },
  {
   "cell_type": "markdown",
   "metadata": {},
   "source": [
    "###### As there isn't much difference between character and word count distribution , I will use word count for my further analysis."
   ]
  },
  {
   "cell_type": "code",
   "execution_count": 23,
   "metadata": {},
   "outputs": [],
   "source": [
    "# Creating bins to bucket the word count based on intervals for a better visual\n",
    "bins = [0,200,400,600,800,1000,1200,1400,1600]\n",
    "toxicity_final['binned_wordcount'] = pd.cut(toxicity_final['total_words'],bins)"
   ]
  },
  {
   "cell_type": "code",
   "execution_count": 24,
   "metadata": {},
   "outputs": [
    {
     "name": "stdout",
     "output_type": "stream",
     "text": [
      "The mean toxicity score per binned_wordcount\n",
      "(0, 200]        0.199936\n",
      "(200, 400]      0.403900\n",
      "(400, 600]      0.367464\n",
      "(600, 800]      0.305823\n",
      "(800, 1000]    -0.048215\n",
      "(1000, 1200]   -1.324503\n",
      "(1200, 1400]   -1.099010\n",
      "(1400, 1600]   -1.250000\n",
      "Name: toxicity_score, dtype: float64\n"
     ]
    }
   ],
   "source": [
    "# Calculating the mean toxicity score based on the binned word count\n",
    "avg_word_toxicity = toxicity_final.groupby(\"binned_wordcount\")[\"toxicity_score\"].mean()\n",
    "print('The mean toxicity score per',avg_word_toxicity)"
   ]
  },
  {
   "cell_type": "code",
   "execution_count": 25,
   "metadata": {},
   "outputs": [
    {
     "data": {
      "image/png": "[encoded data removed]",
      "text/plain": [
       "<Figure size 1080x576 with 1 Axes>"
      ]
     },
     "metadata": {
      "needs_background": "light"
     },
     "output_type": "display_data"
    }
   ],
   "source": [
    "# Plotting the mean toxicity score based on the binned word count to confirm my findings through a visual \n",
    "fig, ax = plt.subplots(figsize=(15,8))\n",
    "ax.set_title(\"Distribution of mean toxicity score by binned word count\")\n",
    "ax = sns.barplot(x=\"binned_wordcount\", y=\"toxicity_score\",hue=\"toxicity\", data=toxicity_final,palette = \"Set2\")\n",
    "# Set the x and y axis labels\n",
    "ax.set(xlabel='Binned Word Count', ylabel='Toxicity Score')\n",
    "plt.show()"
   ]
  },
  {
   "cell_type": "markdown",
   "metadata": {},
   "source": [
    "**Key Findings for Q2-** Yes, toxicity does increase with increase in comment length which is clearly evident from the above plot thus rejecting my hypothesis that smaller comments are more toxic.\n",
    " \n",
    "**Did you find bias-** Based on all the above observations on the character length, its pretty unclear if there was a truncation process involved during the data collection phase. Hence, it is difficult to conclude if there was a bias or not."
   ]
  },
  {
   "cell_type": "markdown",
   "metadata": {},
   "source": [
    "### Q3 -  Has toxicity increased over years and how does that compare with the comment count?"
   ]
  },
  {
   "cell_type": "code",
   "execution_count": 26,
   "metadata": {},
   "outputs": [
    {
     "data": {
      "image/png": "[encoded data removed]",
      "text/plain": [
       "<Figure size 1080x576 with 1 Axes>"
      ]
     },
     "metadata": {
      "needs_background": "light"
     },
     "output_type": "display_data"
    }
   ],
   "source": [
    "# Barplot to see if the toxicity has increased over the years.\n",
    "fig, ax = plt.subplots(figsize=(15,8))\n",
    "sns.barplot( y=\"toxicity_score\", x=\"year\", data=toxicity_final, ax=ax)\n",
    "\n",
    "# Set the title and x and y axis labels\n",
    "ax.set_title(\"Distribution of mean toxicity score over the year\")\n",
    "ax.set(xlabel='Year', ylabel='Toxicity Score')\n",
    "plt.show()"
   ]
  },
  {
   "cell_type": "markdown",
   "metadata": {},
   "source": [
    "**Observation-** Yes, toxicity has decreased over the years. Now lets look at how toxicity compares against the comment count."
   ]
  },
  {
   "cell_type": "code",
   "execution_count": 27,
   "metadata": {},
   "outputs": [
    {
     "data": {
      "image/png": "[encoded data removed]",
      "text/plain": [
       "<Figure size 432x288 with 2 Axes>"
      ]
     },
     "metadata": {
      "needs_background": "light"
     },
     "output_type": "display_data"
    }
   ],
   "source": [
    "# Line plot to show how toxicity score compares againt the comment count\n",
    "ax1 =sns.lineplot(x = 'year', y='toxicity_score', data =toxicity_final,color=\"g\")\n",
    "ax2 = plt.twinx()\n",
    "\n",
    "data = toxicity_final.groupby('year', as_index=False)['comment'].count()\n",
    "sns.lineplot(x = 'year', y='comment', data =data,color=\"r\", ax=ax2)\n",
    "\n",
    "# Set the title , x and y axis labels and lengend\n",
    "ax1.set_title(\"Mean toxicity score vs comment count\")\n",
    "ax1.set(xlabel='Year', ylabel='Toxicity Score')\n",
    "ax2.set(xlabel='Year', ylabel='Comment Count')\n",
    "ax2.legend(labels=['Comment Count'], loc='upper right', frameon=True)\n",
    "\n",
    "# show the plot\n",
    "plt.show()"
   ]
  },
  {
   "cell_type": "markdown",
   "metadata": {},
   "source": [
    "**Key Findings for Q3-** No, intrestingly toxicity has decreased over the years even with increase in the comment count. Does this mean more moderators are doing a better job? Or was there a use of some kind of tool or models to help such moderations?"
   ]
  },
  {
   "cell_type": "markdown",
   "metadata": {},
   "source": [
    "### Q4 -  Exploring the relationships between worker demographics and labeling behavior"
   ]
  },
  {
   "cell_type": "code",
   "execution_count": 28,
   "metadata": {},
   "outputs": [
    {
     "data": {
      "image/png": "[encoded data removed]",
      "text/plain": [
       "<Figure size 1080x576 with 1 Axes>"
      ]
     },
     "metadata": {
      "needs_background": "light"
     },
     "output_type": "display_data"
    }
   ],
   "source": [
    "# Filtering the data to show only comments with toxicity value as 1\n",
    "data_toxic = toxicity_final.loc[toxicity_final['toxicity'] == 1]\n",
    "fig, ax = plt.subplots(figsize=(15,8))\n",
    "# Violin plot to show the ditribution of toxicity score based on worker's age group\n",
    "ax = sns.violinplot( x=\"toxicity_score\", y=\"age_group\", data=data_toxic, ax=ax )\n",
    "ax.set_title(\"Distribution of mean toxicity score by worker's age group\")\n",
    "ax.set(xlabel='Toxicity Score', ylabel='Age Group')\n",
    "plt.show()"
   ]
  },
  {
   "cell_type": "markdown",
   "metadata": {},
   "source": [
    "**Observation-** Toxicity score does vary by age group with \"30-45\" age-group having the highest toxicity score and \"over 60\" and \"under 18\" having least toxicity score."
   ]
  },
  {
   "cell_type": "code",
   "execution_count": 29,
   "metadata": {},
   "outputs": [
    {
     "name": "stdout",
     "output_type": "stream",
     "text": [
      "toxicity  education   \n",
      "0         bachelors       0.448943\n",
      "          doctorate       0.469980\n",
      "          hs              0.465070\n",
      "          masters         0.419512\n",
      "          none            0.877958\n",
      "          professional    0.438178\n",
      "          some            0.454024\n",
      "1         bachelors      -1.181694\n",
      "          doctorate      -1.220126\n",
      "          hs             -1.203578\n",
      "          masters        -1.171097\n",
      "          none           -1.073770\n",
      "          professional   -1.146395\n",
      "          some           -1.225429\n",
      "Name: toxicity_score, dtype: float64\n"
     ]
    }
   ],
   "source": [
    "# Exploring to relationship between education and toxicity score\n",
    "count_toxic = toxicity_final.groupby(['toxicity','education'])['toxicity_score'].mean()\n",
    "print(count_toxic)"
   ]
  },
  {
   "cell_type": "markdown",
   "metadata": {},
   "source": [
    "**Observation-** Interesting to see how crowdworkers with no schooling experience followed by professional (both being two ends of a spectrum) tend to label contents more toxic."
   ]
  },
  {
   "cell_type": "markdown",
   "metadata": {},
   "source": [
    "# Analysis 2"
   ]
  },
  {
   "cell_type": "markdown",
   "metadata": {},
   "source": [
    "###### Initial exploration to understand the personal attack dataset"
   ]
  },
  {
   "cell_type": "code",
   "execution_count": 30,
   "metadata": {},
   "outputs": [
    {
     "name": "stdout",
     "output_type": "stream",
     "text": [
      "personal_annotations  (1365217, 7)\n",
      "personal_annotated_comments (115864, 7)\n",
      "personal_worker_demographics (2190, 5)\n"
     ]
    }
   ],
   "source": [
    "print('personal_annotations ', personal_annotations.shape)\n",
    "print('personal_annotated_comments', personal_annotated_comments.shape)\n",
    "print('personal_worker_demographics', personal_worker_demographics.shape)"
   ]
  },
  {
   "cell_type": "markdown",
   "metadata": {},
   "source": [
    "##### Explore the first few rows of each table within the personal attack dataset"
   ]
  },
  {
   "cell_type": "code",
   "execution_count": 31,
   "metadata": {},
   "outputs": [
    {
     "data": {
      "text/html": [
       "<div>\n",
       "<style scoped>\n",
       "    .dataframe tbody tr th:only-of-type {\n",
       "        vertical-align: middle;\n",
       "    }\n",
       "\n",
       "    .dataframe tbody tr th {\n",
       "        vertical-align: top;\n",
       "    }\n",
       "\n",
       "    .dataframe thead th {\n",
       "        text-align: right;\n",
       "    }\n",
       "</style>\n",
       "<table border=\"1\" class=\"dataframe\">\n",
       "  <thead>\n",
       "    <tr style=\"text-align: right;\">\n",
       "      <th></th>\n",
       "      <th>rev_id</th>\n",
       "      <th>worker_id</th>\n",
       "      <th>quoting_attack</th>\n",
       "      <th>recipient_attack</th>\n",
       "      <th>third_party_attack</th>\n",
       "      <th>other_attack</th>\n",
       "      <th>attack</th>\n",
       "    </tr>\n",
       "  </thead>\n",
       "  <tbody>\n",
       "    <tr>\n",
       "      <th>0</th>\n",
       "      <td>37675</td>\n",
       "      <td>1362</td>\n",
       "      <td>0.0</td>\n",
       "      <td>0.0</td>\n",
       "      <td>0.0</td>\n",
       "      <td>0.0</td>\n",
       "      <td>0.0</td>\n",
       "    </tr>\n",
       "    <tr>\n",
       "      <th>1</th>\n",
       "      <td>37675</td>\n",
       "      <td>2408</td>\n",
       "      <td>0.0</td>\n",
       "      <td>0.0</td>\n",
       "      <td>0.0</td>\n",
       "      <td>0.0</td>\n",
       "      <td>0.0</td>\n",
       "    </tr>\n",
       "    <tr>\n",
       "      <th>2</th>\n",
       "      <td>37675</td>\n",
       "      <td>1493</td>\n",
       "      <td>0.0</td>\n",
       "      <td>0.0</td>\n",
       "      <td>0.0</td>\n",
       "      <td>0.0</td>\n",
       "      <td>0.0</td>\n",
       "    </tr>\n",
       "    <tr>\n",
       "      <th>3</th>\n",
       "      <td>37675</td>\n",
       "      <td>1439</td>\n",
       "      <td>0.0</td>\n",
       "      <td>0.0</td>\n",
       "      <td>0.0</td>\n",
       "      <td>0.0</td>\n",
       "      <td>0.0</td>\n",
       "    </tr>\n",
       "    <tr>\n",
       "      <th>4</th>\n",
       "      <td>37675</td>\n",
       "      <td>170</td>\n",
       "      <td>0.0</td>\n",
       "      <td>0.0</td>\n",
       "      <td>0.0</td>\n",
       "      <td>0.0</td>\n",
       "      <td>0.0</td>\n",
       "    </tr>\n",
       "  </tbody>\n",
       "</table>\n",
       "</div>"
      ],
      "text/plain": [
       "   rev_id  worker_id  quoting_attack  recipient_attack  third_party_attack  \\\n",
       "0   37675       1362             0.0               0.0                 0.0   \n",
       "1   37675       2408             0.0               0.0                 0.0   \n",
       "2   37675       1493             0.0               0.0                 0.0   \n",
       "3   37675       1439             0.0               0.0                 0.0   \n",
       "4   37675        170             0.0               0.0                 0.0   \n",
       "\n",
       "   other_attack  attack  \n",
       "0           0.0     0.0  \n",
       "1           0.0     0.0  \n",
       "2           0.0     0.0  \n",
       "3           0.0     0.0  \n",
       "4           0.0     0.0  "
      ]
     },
     "execution_count": 31,
     "metadata": {},
     "output_type": "execute_result"
    }
   ],
   "source": [
    "personal_annotations.head()"
   ]
  },
  {
   "cell_type": "code",
   "execution_count": 32,
   "metadata": {},
   "outputs": [
    {
     "data": {
      "text/html": [
       "<div>\n",
       "<style scoped>\n",
       "    .dataframe tbody tr th:only-of-type {\n",
       "        vertical-align: middle;\n",
       "    }\n",
       "\n",
       "    .dataframe tbody tr th {\n",
       "        vertical-align: top;\n",
       "    }\n",
       "\n",
       "    .dataframe thead th {\n",
       "        text-align: right;\n",
       "    }\n",
       "</style>\n",
       "<table border=\"1\" class=\"dataframe\">\n",
       "  <thead>\n",
       "    <tr style=\"text-align: right;\">\n",
       "      <th></th>\n",
       "      <th>rev_id</th>\n",
       "      <th>comment</th>\n",
       "      <th>year</th>\n",
       "      <th>logged_in</th>\n",
       "      <th>ns</th>\n",
       "      <th>sample</th>\n",
       "      <th>split</th>\n",
       "    </tr>\n",
       "  </thead>\n",
       "  <tbody>\n",
       "    <tr>\n",
       "      <th>0</th>\n",
       "      <td>37675</td>\n",
       "      <td>`-NEWLINE_TOKENThis is not ``creative``.  Thos...</td>\n",
       "      <td>2002</td>\n",
       "      <td>False</td>\n",
       "      <td>article</td>\n",
       "      <td>random</td>\n",
       "      <td>train</td>\n",
       "    </tr>\n",
       "    <tr>\n",
       "      <th>1</th>\n",
       "      <td>44816</td>\n",
       "      <td>`NEWLINE_TOKENNEWLINE_TOKEN:: the term ``stand...</td>\n",
       "      <td>2002</td>\n",
       "      <td>False</td>\n",
       "      <td>article</td>\n",
       "      <td>random</td>\n",
       "      <td>train</td>\n",
       "    </tr>\n",
       "    <tr>\n",
       "      <th>2</th>\n",
       "      <td>49851</td>\n",
       "      <td>NEWLINE_TOKENNEWLINE_TOKENTrue or false, the s...</td>\n",
       "      <td>2002</td>\n",
       "      <td>False</td>\n",
       "      <td>article</td>\n",
       "      <td>random</td>\n",
       "      <td>train</td>\n",
       "    </tr>\n",
       "    <tr>\n",
       "      <th>3</th>\n",
       "      <td>89320</td>\n",
       "      <td>Next, maybe you could work on being less cond...</td>\n",
       "      <td>2002</td>\n",
       "      <td>True</td>\n",
       "      <td>article</td>\n",
       "      <td>random</td>\n",
       "      <td>dev</td>\n",
       "    </tr>\n",
       "    <tr>\n",
       "      <th>4</th>\n",
       "      <td>93890</td>\n",
       "      <td>This page will need disambiguation.</td>\n",
       "      <td>2002</td>\n",
       "      <td>True</td>\n",
       "      <td>article</td>\n",
       "      <td>random</td>\n",
       "      <td>train</td>\n",
       "    </tr>\n",
       "  </tbody>\n",
       "</table>\n",
       "</div>"
      ],
      "text/plain": [
       "   rev_id                                            comment  year  logged_in  \\\n",
       "0   37675  `-NEWLINE_TOKENThis is not ``creative``.  Thos...  2002      False   \n",
       "1   44816  `NEWLINE_TOKENNEWLINE_TOKEN:: the term ``stand...  2002      False   \n",
       "2   49851  NEWLINE_TOKENNEWLINE_TOKENTrue or false, the s...  2002      False   \n",
       "3   89320   Next, maybe you could work on being less cond...  2002       True   \n",
       "4   93890               This page will need disambiguation.   2002       True   \n",
       "\n",
       "        ns  sample  split  \n",
       "0  article  random  train  \n",
       "1  article  random  train  \n",
       "2  article  random  train  \n",
       "3  article  random    dev  \n",
       "4  article  random  train  "
      ]
     },
     "execution_count": 32,
     "metadata": {},
     "output_type": "execute_result"
    }
   ],
   "source": [
    "personal_annotated_comments.head()"
   ]
  },
  {
   "cell_type": "code",
   "execution_count": 33,
   "metadata": {},
   "outputs": [
    {
     "data": {
      "text/html": [
       "<div>\n",
       "<style scoped>\n",
       "    .dataframe tbody tr th:only-of-type {\n",
       "        vertical-align: middle;\n",
       "    }\n",
       "\n",
       "    .dataframe tbody tr th {\n",
       "        vertical-align: top;\n",
       "    }\n",
       "\n",
       "    .dataframe thead th {\n",
       "        text-align: right;\n",
       "    }\n",
       "</style>\n",
       "<table border=\"1\" class=\"dataframe\">\n",
       "  <thead>\n",
       "    <tr style=\"text-align: right;\">\n",
       "      <th></th>\n",
       "      <th>worker_id</th>\n",
       "      <th>gender</th>\n",
       "      <th>english_first_language</th>\n",
       "      <th>age_group</th>\n",
       "      <th>education</th>\n",
       "    </tr>\n",
       "  </thead>\n",
       "  <tbody>\n",
       "    <tr>\n",
       "      <th>0</th>\n",
       "      <td>833</td>\n",
       "      <td>female</td>\n",
       "      <td>0</td>\n",
       "      <td>45-60</td>\n",
       "      <td>bachelors</td>\n",
       "    </tr>\n",
       "    <tr>\n",
       "      <th>1</th>\n",
       "      <td>1072</td>\n",
       "      <td>male</td>\n",
       "      <td>0</td>\n",
       "      <td>30-45</td>\n",
       "      <td>bachelors</td>\n",
       "    </tr>\n",
       "    <tr>\n",
       "      <th>2</th>\n",
       "      <td>872</td>\n",
       "      <td>male</td>\n",
       "      <td>0</td>\n",
       "      <td>18-30</td>\n",
       "      <td>hs</td>\n",
       "    </tr>\n",
       "    <tr>\n",
       "      <th>3</th>\n",
       "      <td>2116</td>\n",
       "      <td>male</td>\n",
       "      <td>0</td>\n",
       "      <td>30-45</td>\n",
       "      <td>professional</td>\n",
       "    </tr>\n",
       "    <tr>\n",
       "      <th>4</th>\n",
       "      <td>453</td>\n",
       "      <td>male</td>\n",
       "      <td>0</td>\n",
       "      <td>30-45</td>\n",
       "      <td>hs</td>\n",
       "    </tr>\n",
       "  </tbody>\n",
       "</table>\n",
       "</div>"
      ],
      "text/plain": [
       "   worker_id  gender  english_first_language age_group     education\n",
       "0        833  female                       0     45-60     bachelors\n",
       "1       1072    male                       0     30-45     bachelors\n",
       "2        872    male                       0     18-30            hs\n",
       "3       2116    male                       0     30-45  professional\n",
       "4        453    male                       0     30-45            hs"
      ]
     },
     "execution_count": 33,
     "metadata": {},
     "output_type": "execute_result"
    }
   ],
   "source": [
    "personal_worker_demographics.head()"
   ]
  },
  {
   "cell_type": "markdown",
   "metadata": {},
   "source": [
    "###### Join the annotation table with the annotate comment table"
   ]
  },
  {
   "cell_type": "code",
   "execution_count": 34,
   "metadata": {},
   "outputs": [
    {
     "name": "stdout",
     "output_type": "stream",
     "text": [
      "Combined personal annotations and comment  (1365217, 13)\n"
     ]
    }
   ],
   "source": [
    "personal_annotate_comment = pd.merge(personal_annotations, personal_annotated_comments, on='rev_id')\n",
    "print('Combined personal annotations and comment ', personal_annotate_comment.shape)"
   ]
  },
  {
   "cell_type": "markdown",
   "metadata": {},
   "source": [
    "###### Join the above combined table with worker demographic table"
   ]
  },
  {
   "cell_type": "code",
   "execution_count": 35,
   "metadata": {},
   "outputs": [
    {
     "name": "stdout",
     "output_type": "stream",
     "text": [
      "personal_final  (855514, 17)\n"
     ]
    }
   ],
   "source": [
    "personal_final = pd.merge(personal_annotate_comment, personal_worker_demographics, on='worker_id')\n",
    "print('personal_final ', personal_final.shape)"
   ]
  },
  {
   "cell_type": "markdown",
   "metadata": {},
   "source": [
    "###### Join the above toxicity and personal attack dataset"
   ]
  },
  {
   "cell_type": "code",
   "execution_count": 36,
   "metadata": {},
   "outputs": [
    {
     "name": "stdout",
     "output_type": "stream",
     "text": [
      "personal_toxicity  (4620868, 22)\n"
     ]
    }
   ],
   "source": [
    "personal_toxicity = pd.merge(personal_final, toxicity_final, on='rev_id',suffixes=('', '_y'))\n",
    "personal_toxicity.drop(personal_toxicity.filter(regex='_y$').columns.tolist(),axis=1, inplace=True)\n",
    "print('personal_toxicity ', personal_toxicity.shape)"
   ]
  },
  {
   "cell_type": "code",
   "execution_count": 37,
   "metadata": {},
   "outputs": [
    {
     "name": "stdout",
     "output_type": "stream",
     "text": [
      "There are no null values or blanks in the comment column\n"
     ]
    }
   ],
   "source": [
    "personal_toxicity[personal_toxicity.comment.isnull()]\n",
    "personal_toxicity[personal_toxicity.comment == '']\n",
    "print('There are no null values or blanks in the comment column')"
   ]
  },
  {
   "cell_type": "code",
   "execution_count": 38,
   "metadata": {},
   "outputs": [
    {
     "data": {
      "text/plain": [
       "4620868"
      ]
     },
     "execution_count": 38,
     "metadata": {},
     "output_type": "execute_result"
    }
   ],
   "source": [
    "personal_toxicity.shape[0]"
   ]
  },
  {
   "cell_type": "code",
   "execution_count": 39,
   "metadata": {},
   "outputs": [
    {
     "data": {
      "text/plain": [
       "['rev_id',\n",
       " 'worker_id',\n",
       " 'quoting_attack',\n",
       " 'recipient_attack',\n",
       " 'third_party_attack',\n",
       " 'other_attack',\n",
       " 'attack',\n",
       " 'comment',\n",
       " 'year',\n",
       " 'logged_in',\n",
       " 'ns',\n",
       " 'sample',\n",
       " 'split',\n",
       " 'gender',\n",
       " 'english_first_language',\n",
       " 'age_group',\n",
       " 'education',\n",
       " 'toxicity',\n",
       " 'toxicity_score',\n",
       " 'comment_length',\n",
       " 'total_words',\n",
       " 'binned_wordcount']"
      ]
     },
     "execution_count": 39,
     "metadata": {},
     "output_type": "execute_result"
    }
   ],
   "source": [
    "# Making sure there are no duplicate values\n",
    "my_list = personal_toxicity.columns.values.tolist()\n",
    "my_list"
   ]
  },
  {
   "cell_type": "markdown",
   "metadata": {},
   "source": [
    "### Q1 - What percent of personal attacks are considered toxic?"
   ]
  },
  {
   "cell_type": "code",
   "execution_count": 40,
   "metadata": {},
   "outputs": [
    {
     "name": "stdout",
     "output_type": "stream",
     "text": [
      "Is an attack and labeled toxic : 14.0 %\n",
      "Is an attack but labeled non-toxic : 9.0 %\n",
      "Not an attack but labeled toxic : 10.0 %\n",
      "Not an attack and labeled non-toxic : 67.0 %\n"
     ]
    }
   ],
   "source": [
    "# Calculating the % of comments which are considered some form of an attack and was labeled toxic\n",
    "attack_toxicity = personal_toxicity[(personal_toxicity['attack'] == 1) & (personal_toxicity['toxicity'] == 1)]\n",
    "print('Is an attack and labeled toxic :' ,round(attack_toxicity.rev_id.count()/personal_toxicity.shape[0] * 100), '%')\n",
    "\n",
    "# Calculating the % of comments which are considered some form of an attack but was labeled non-toxic\n",
    "attack_toxicity = personal_toxicity[(personal_toxicity['attack'] == 1) & (personal_toxicity['toxicity'] == 0)]\n",
    "print('Is an attack but labeled non-toxic :' ,round(attack_toxicity.rev_id.count()/personal_toxicity.shape[0] * 100), '%')\n",
    "\n",
    "# Calculating the % of comments which were not an attack but was labeled toxic\n",
    "attack_toxicity = personal_toxicity[(personal_toxicity['attack'] == 0) & (personal_toxicity['toxicity'] == 1)]\n",
    "print('Not an attack but labeled toxic :' ,round(attack_toxicity.rev_id.count()/personal_toxicity.shape[0] * 100), '%')\n",
    "\n",
    "# Calculating the % of comments which were not an attack but was labeled non-toxic\n",
    "attack_toxicity = personal_toxicity[(personal_toxicity['attack'] == 0) & (personal_toxicity['toxicity'] == 0)]\n",
    "print('Not an attack and labeled non-toxic :' ,round(attack_toxicity.rev_id.count()/personal_toxicity.shape[0] * 100), '%')"
   ]
  },
  {
   "cell_type": "markdown",
   "metadata": {},
   "source": [
    "**Key Findings for Q1-** I find the above stats pretty serious especially around attack comments labeled non-toxic and vice-versa. Around 9% of comments which are labeled as some form of an attack are considered non toxic and 10% was labeled not an attack but still ended up being toxic. This shows that some types of hostile speeches are harder for crowdworkers to agree upon. That being said, it is also relieving to see about 67% of the comments that were not an attack being labeled correctly as non-toxic.\n",
    "\n",
    "**Did you find bias-** Yes, disagreement among crowdworkers will impact the reliability of the models trained on these datasets. It is even a possible case where a typically more toxic comment is labeled non-toxic and a less toxic comment becomes toxicified when it involves sensitive elements such as politics,sexuality,religion etc. "
   ]
  },
  {
   "cell_type": "markdown",
   "metadata": {},
   "source": [
    "### Q2 - Which of these personal attacks are the most and the least toxic?"
   ]
  },
  {
   "cell_type": "code",
   "execution_count": 41,
   "metadata": {},
   "outputs": [],
   "source": [
    "# Creating seperate subsets of data by filtering based on attack type and toxicity value\n",
    "\n",
    "# Subset of data for quoting attack based on toxicity value\n",
    "qt_0 =  personal_toxicity[personal_toxicity[\"quoting_attack\"] == 0]\n",
    "qt_1 =  personal_toxicity[personal_toxicity[\"quoting_attack\"] == 1]\n",
    "# Calculate the mean toxicity score for quoting attack\n",
    "personal_toxicity_mean_q0 = qt_0['toxicity_score'].mean()\n",
    "personal_toxicity_mean_q1 = qt_1['toxicity_score'].mean()\n",
    "# Calculate the comment count for quoting attack\n",
    "personal_toxicity_count_q0 = qt_0['toxicity_score'].count()\n",
    "personal_toxicity_count_q1 = qt_1['toxicity_score'].count()\n",
    "\n",
    "# Subset of data for recipient attack based on toxicity value\n",
    "res_0 =  personal_toxicity[personal_toxicity[\"recipient_attack\"] == 0]\n",
    "res_1 =  personal_toxicity[personal_toxicity[\"recipient_attack\"] == 1]\n",
    "# Calculate the mean toxicity score for recipient attack\n",
    "personal_toxicity_mean_r0 = res_0['toxicity_score'].mean()\n",
    "personal_toxicity_mean_r1 = res_1['toxicity_score'].mean()\n",
    "# Calculate the comment count for recipient attack\n",
    "personal_toxicity_count_r0 = res_0['toxicity_score'].count()\n",
    "personal_toxicity_count_r1 = res_1['toxicity_score'].count()\n",
    "\n",
    "# Subset of data for third party attack based on toxicity value\n",
    "tp_0 =  personal_toxicity[personal_toxicity[\"third_party_attack\"] == 0]\n",
    "tp_1 =  personal_toxicity[personal_toxicity[\"third_party_attack\"] == 1]\n",
    "# Calculate the mean toxicity score for third party attack\n",
    "personal_toxicity_mean_tp0 = tp_0['toxicity_score'].mean()\n",
    "personal_toxicity_mean_tp1 = tp_1['toxicity_score'].mean()\n",
    "# Calculate the comment count for third party attack\n",
    "personal_toxicity_count_tp0 = tp_0['toxicity_score'].count()\n",
    "personal_toxicity_count_tp1 = tp_1['toxicity_score'].count()\n",
    "\n",
    "# Subset of data for other attack based on toxicity value\n",
    "oa_0 =  personal_toxicity[personal_toxicity[\"other_attack\"] == 0]\n",
    "oa_1 =  personal_toxicity[personal_toxicity[\"other_attack\"] == 1]\n",
    "# Calculate the mean toxicity score for other attack\n",
    "personal_toxicity_mean_oa0 = oa_0['toxicity_score'].mean()\n",
    "personal_toxicity_mean_oa1 = oa_1['toxicity_score'].mean()\n",
    "# Calculate the comment count for other attack\n",
    "personal_toxicity_count_oa0 = oa_0['toxicity_score'].count()\n",
    "personal_toxicity_count_oa1 = oa_1['toxicity_score'].count()"
   ]
  },
  {
   "cell_type": "code",
   "execution_count": 42,
   "metadata": {},
   "outputs": [
    {
     "name": "stdout",
     "output_type": "stream",
     "text": [
      "\n",
      "\n",
      "| Attack Type        |   Toxicity |   Mean Toxic Score |   Comment Count |   Comment % |\n",
      "|--------------------+------------+--------------------+-----------------+-------------|\n",
      "| quoting_attack     |          0 |          0.0363178 | 4577753.0000000 |   0.9906695 |\n",
      "| recipient_attack   |          0 |          0.1705546 | 3914301.0000000 |   0.8470921 |\n",
      "| third_party_attack |          0 |          0.0611902 | 4401097.0000000 |   0.9524395 |\n",
      "| other_attack       |          0 |          0.0539833 | 4422625.0000000 |   0.9570983 |\n",
      "| quoting_attack     |          1 |         -0.3080366 |   43115.0000000 |   0.0093305 |\n",
      "| recipient_attack   |          1 |         -0.7283513 |  706567.0000000 |   0.1529079 |\n",
      "| third_party_attack |          1 |         -0.5293283 |  219771.0000000 |   0.0475605 |\n",
      "| other_attack       |          1 |         -0.4326761 |  198243.0000000 |   0.0429017 |\n",
      "\n",
      "\n",
      "The most toxic personal attack is quoting attack at: -30.803664617882408\n",
      "The least toxic personal attack is recipient attack at: -72.83513099253149\n"
     ]
    }
   ],
   "source": [
    "# Printing the output in a tabular format using the tabulate package\n",
    "print('\\n')\n",
    "print(tabulate([['quoting_attack','0',personal_toxicity_mean_q0,personal_toxicity_count_q0,personal_toxicity_count_q0/personal_toxicity.shape[0]],['recipient_attack', '0', personal_toxicity_mean_r0, personal_toxicity_count_r0, personal_toxicity_count_r0/personal_toxicity.shape[0]], \\\n",
    "                ['third_party_attack', '0', personal_toxicity_mean_tp0,personal_toxicity_count_tp0,personal_toxicity_count_tp0/personal_toxicity.shape[0]],['other_attack', '0', personal_toxicity_mean_oa0,personal_toxicity_count_oa0,personal_toxicity_count_oa0/personal_toxicity.shape[0]], \\\n",
    "                ['quoting_attack','1',personal_toxicity_mean_q1,personal_toxicity_count_q1,personal_toxicity_count_q1/personal_toxicity.shape[0]],['recipient_attack', '1', personal_toxicity_mean_r1,personal_toxicity_count_r1,personal_toxicity_count_r1/personal_toxicity.shape[0]], \\\n",
    "                ['third_party_attack', '1', personal_toxicity_mean_tp1,personal_toxicity_count_tp1,personal_toxicity_count_tp1/personal_toxicity.shape[0]], ['other_attack', '1', personal_toxicity_mean_oa1,personal_toxicity_count_oa1,personal_toxicity_count_oa1/personal_toxicity.shape[0]]],\n",
    "               headers = ['Attack Type','Toxicity','Mean Toxic Score','Comment Count','Comment %'], tablefmt='orgtbl',floatfmt='.7f'))\n",
    "print('\\n')\n",
    "print('The most toxic personal attack is quoting attack at:', (max(personal_toxicity_mean_q1,personal_toxicity_mean_tp1,personal_toxicity_mean_r1,personal_toxicity_mean_oa1)) * 100)\n",
    "print('The least toxic personal attack is recipient attack at:', (min(personal_toxicity_mean_q1,personal_toxicity_mean_tp1,personal_toxicity_mean_r1,personal_toxicity_mean_oa1))*100)"
   ]
  },
  {
   "cell_type": "markdown",
   "metadata": {},
   "source": [
    "**Key Findings for Q2-** It is very clear from the above results that quoting attack is the most toxic with recipient attack being the least toxic. \n",
    "\n",
    "**Did you find bias-** Yes, the dataset does have selection bias when looking at the distribution of the comment counts across various attack with quoting comment having the least volume and hence cannot be used to make an overall inference."
   ]
  },
  {
   "cell_type": "markdown",
   "metadata": {},
   "source": [
    "### Q3 -  Are female-identified labelers more or less likely to label comments as toxic than male-identified labelers?"
   ]
  },
  {
   "cell_type": "code",
   "execution_count": 43,
   "metadata": {},
   "outputs": [
    {
     "data": {
      "text/plain": [
       "gender\n",
       "female    38.006797\n",
       "male      61.963586\n",
       "other      0.029617\n",
       "Name: worker_id, dtype: float64"
      ]
     },
     "execution_count": 43,
     "metadata": {},
     "output_type": "execute_result"
    }
   ],
   "source": [
    "# Filtering the data based on the attack value 1\n",
    "data =  personal_toxicity[personal_toxicity[\"attack\"] == 1]\n",
    "# Counting the comments labeled as an attack\n",
    "attack_gender = data.groupby(['gender']).worker_id.count() \n",
    "# Calculating the mean of the attack based on gender\n",
    "attack_gender/attack_gender.sum() *100"
   ]
  },
  {
   "cell_type": "markdown",
   "metadata": {},
   "source": [
    "**Observation-** Of all the comments labeled as some form of attack, male identified workers tend to label a comment more toxic than female idenfied workers."
   ]
  },
  {
   "cell_type": "markdown",
   "metadata": {},
   "source": [
    "###### Now lets look at specific attack categories to confirm if male identified workers label comments toxic than female identified."
   ]
  },
  {
   "cell_type": "code",
   "execution_count": 44,
   "metadata": {},
   "outputs": [
    {
     "data": {
      "text/plain": [
       "gender\n",
       "female    38.325409\n",
       "male      61.662994\n",
       "other      0.011597\n",
       "Name: worker_id, dtype: float64"
      ]
     },
     "execution_count": 44,
     "metadata": {},
     "output_type": "execute_result"
    }
   ],
   "source": [
    "# Looking at quoting attacks that where labeled toxic\n",
    "quoting_attack = qt_1.groupby(['gender']).worker_id.count()\n",
    "quoting_attack = quoting_attack/quoting_attack.sum()*100\n",
    "quoting_attack"
   ]
  },
  {
   "cell_type": "code",
   "execution_count": 45,
   "metadata": {},
   "outputs": [
    {
     "data": {
      "text/plain": [
       "gender\n",
       "female    41.453604\n",
       "male      58.506809\n",
       "other      0.039587\n",
       "Name: worker_id, dtype: float64"
      ]
     },
     "execution_count": 45,
     "metadata": {},
     "output_type": "execute_result"
    }
   ],
   "source": [
    "# Looking at third party attacks that where labeled toxic\n",
    "third_party_attack = tp_1.groupby(['gender']).worker_id.count()\n",
    "third_party_attack/third_party_attack.sum()*100"
   ]
  },
  {
   "cell_type": "code",
   "execution_count": 46,
   "metadata": {},
   "outputs": [
    {
     "data": {
      "text/plain": [
       "gender\n",
       "female    38.593368\n",
       "male      61.375779\n",
       "other      0.030853\n",
       "Name: worker_id, dtype: float64"
      ]
     },
     "execution_count": 46,
     "metadata": {},
     "output_type": "execute_result"
    }
   ],
   "source": [
    "# Looking at recipient attacks that where labeled toxic\n",
    "recipient_attack = res_1.groupby(['gender']).worker_id.count()\n",
    "recipient_attack/recipient_attack.sum()*100"
   ]
  },
  {
   "cell_type": "code",
   "execution_count": 47,
   "metadata": {},
   "outputs": [
    {
     "data": {
      "text/plain": [
       "gender\n",
       "female    36.719077\n",
       "male      63.280923\n",
       "Name: worker_id, dtype: float64"
      ]
     },
     "execution_count": 47,
     "metadata": {},
     "output_type": "execute_result"
    }
   ],
   "source": [
    "# Looking at other attacks that where labeled toxic\n",
    "other_attack = oa_1.groupby(['gender']).worker_id.count()\n",
    "other_attack/other_attack.sum()*100"
   ]
  },
  {
   "cell_type": "code",
   "execution_count": 48,
   "metadata": {},
   "outputs": [
    {
     "data": {
      "image/png": "[encoded data removed]",
      "text/plain": [
       "<Figure size 1080x576 with 1 Axes>"
      ]
     },
     "metadata": {
      "needs_background": "light"
     },
     "output_type": "display_data"
    }
   ],
   "source": [
    "fig, ax = plt.subplots(figsize=(15,8))\n",
    "ax.set_title(\"Distribution of mean toxicity scores by worker's gender\")\n",
    "ax = sns.violinplot(data=personal_toxicity, y = 'gender' ,x = 'toxicity_score')\n",
    "ax.set(xlabel='Toxicity Score', ylabel='Gender')\n",
    "plt.show()"
   ]
  },
  {
   "cell_type": "code",
   "execution_count": 49,
   "metadata": {},
   "outputs": [
    {
     "data": {
      "text/plain": [
       "gender\n",
       "female    0.366777\n",
       "male      0.633073\n",
       "other     0.000150\n",
       "Name: worker_id, dtype: float64"
      ]
     },
     "execution_count": 49,
     "metadata": {},
     "output_type": "execute_result"
    }
   ],
   "source": [
    "#Final check to see if the annotation workers are gender balanced before we confirm bias\n",
    "worker_gender = personal_toxicity.groupby(\"gender\").worker_id.count()\n",
    "worker_gender/worker_gender.sum()"
   ]
  },
  {
   "cell_type": "markdown",
   "metadata": {},
   "source": [
    "**Key Findings for Q3-** No, intrestingly male workers are more likely to label a comment as an attack than the female workers. However, the dataset contains 63% of male annotation workers and only 36% of female annotation workers.\n",
    "\n",
    "**Did you find bias-** Yes. Even when the mean toxicity score is high for male workers this could be skewed due to the gender imbalance of the annotation workers. "
   ]
  },
  {
   "cell_type": "markdown",
   "metadata": {},
   "source": [
    "# Step 2: Discuss further implications"
   ]
  },
  {
   "cell_type": "markdown",
   "metadata": {},
   "source": [
    "1. Which, if any, of these demo applications would you expect the Perspective API—or any model trained on the Wikipedia Talk corpus—to perform well in? Why? "
   ]
  },
  {
   "cell_type": "markdown",
   "metadata": {},
   "source": [
    "Demo applications such as \"Hot Topics\",\"Author Perspective for Drupal\" and \"wikidetox\" are some of the good examples where the Perspective API would perform well when trained on Wikipedia Talk corpus dataset. Such applications not only helps drive better conversations by giving real time response to the commenters but also help people to express themselves and seek feedbacks/opinions. Keeping in mind the truth that no dataset is pefect or clean, these applications will perform well when trained on the Wikipedia talk corpus dataset for the following reasons - \n",
    "\n",
    " - Comments for these application broadly fall under the same domain as that of corpus dataset.\n",
    " - As the corpus dataset contains the comments, namespace (article/user) and the toxicity score, it can be used in predicting the toxicity score of an unpublished article or comments.\n",
    " - It could definitely be used as a pre check by authors to check when their comments might violate the community guidelines or be may be perceived as “Toxic” to the conversation."
   ]
  },
  {
   "cell_type": "markdown",
   "metadata": {},
   "source": [
    "2. What are some kinds of hostile speech that would be difficult to accurately detect using the approach used to train the Perspective API models? "
   ]
  },
  {
   "cell_type": "markdown",
   "metadata": {},
   "source": [
    "As the data is highly contexual and specific, you cannot deem a word toxic or assign any other tag to it until you know the topic,context or domain. While words with negative connotation,sexuality (gay, lesbian, homosexual),religion, racism, misogyny can be difficult to accurately detect using these machine learning models, bad tones and tones related to sentiments/sarcasm/emotions such as anger, disgust, fear and sadness in a conversation on the other hand, are tricky and continue to pose constant challenges to the Perspective API models resulting in some form of bias when flagging toxicity."
   ]
  },
  {
   "cell_type": "markdown",
   "metadata": {},
   "source": [
    "3. Imagine you are one of the Google data scientists who maintains the Perspective API. If you wanted to improve the model or the API itself to make it work better for any of these purposes, how should they go about doing that?"
   ]
  },
  {
   "cell_type": "markdown",
   "metadata": {},
   "source": [
    "-\tModels can be improved further by taking into account additional new features such as user‘s demographics, past comments, network graph, content properties, language etc. \n",
    "-\tGeneralize the models to be less dependent on individual words, so that we can effectively deal with biases tied to words used in many different contexts.\n",
    "-\tImprove the annotation quality by using more comments in the discussion thread and train\\test the model further on broader topics rather than just the comments represented in a specific topic."
   ]
  },
  {
   "cell_type": "code",
   "execution_count": null,
   "metadata": {},
   "outputs": [],
   "source": []
  }
 ],
 "metadata": {
  "kernelspec": {
   "display_name": "Python 3",
   "language": "python",
   "name": "python3"
  },
  "language_info": {
   "codemirror_mode": {
    "name": "ipython",
    "version": 3
   },
   "file_extension": ".py",
   "mimetype": "text/x-python",
   "name": "python",
   "nbconvert_exporter": "python",
   "pygments_lexer": "ipython3",
   "version": "3.7.6"
  }
 },
 "nbformat": 4,
 "nbformat_minor": 4
}
